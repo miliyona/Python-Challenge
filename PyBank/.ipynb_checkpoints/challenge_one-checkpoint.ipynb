{
 "cells": [
  {
   "cell_type": "markdown",
   "metadata": {},
   "source": [
    "# PyBank"
   ]
  },
  {
   "cell_type": "code",
   "execution_count": 1,
   "metadata": {},
   "outputs": [],
   "source": [
    "import pandas as pd\n",
    "import csv"
   ]
  },
  {
   "cell_type": "code",
   "execution_count": 2,
   "metadata": {},
   "outputs": [],
   "source": [
    "budgetdata_1=pd.read_csv(\"budget_data_1.csv\")\n",
    "budgetdata_2=pd.read_csv(\"budget_data_2.csv\")\n",
    "joined=[budgetdata_1,budgetdata_2]\n",
    "joined = pd.concat(joined)"
   ]
  },
  {
   "cell_type": "code",
   "execution_count": 3,
   "metadata": {},
   "outputs": [
    {
     "data": {
      "text/plain": [
       "(127, 2)"
      ]
     },
     "execution_count": 3,
     "metadata": {},
     "output_type": "execute_result"
    }
   ],
   "source": [
    "joined.shape"
   ]
  },
  {
   "cell_type": "code",
   "execution_count": 4,
   "metadata": {},
   "outputs": [
    {
     "data": {
      "text/plain": [
       "Date       127\n",
       "Revenue    127\n",
       "dtype: int64"
      ]
     },
     "execution_count": 4,
     "metadata": {},
     "output_type": "execute_result"
    }
   ],
   "source": [
    "joined.count()"
   ]
  },
  {
   "cell_type": "code",
   "execution_count": 5,
   "metadata": {},
   "outputs": [],
   "source": [
    "joined = joined.reset_index()"
   ]
  },
  {
   "cell_type": "code",
   "execution_count": 6,
   "metadata": {},
   "outputs": [],
   "source": [
    "max_value=joined.loc[joined['Revenue'].idxmax()].to_dict()"
   ]
  },
  {
   "cell_type": "code",
   "execution_count": 7,
   "metadata": {},
   "outputs": [],
   "source": [
    "min_value=joined.loc[joined['Revenue'].idxmin()].to_dict()"
   ]
  },
  {
   "cell_type": "code",
   "execution_count": 8,
   "metadata": {},
   "outputs": [],
   "source": [
    "def currency_format(amount):\n",
    "    if amount >= 0:\n",
    "        return '${:.0f}'.format(amount)\n",
    "    else:\n",
    "        return '-${:.0f}'.format(-amount)"
   ]
  },
  {
   "cell_type": "code",
   "execution_count": 9,
   "metadata": {},
   "outputs": [
    {
     "name": "stdout",
     "output_type": "stream",
     "text": [
      "Financial Analysis\n",
      "--------------------------------------\n",
      "Total Months: 127\n",
      "Total Revenue: $55945323\n",
      "Average Revenue Change: $440514\n",
      "Greatest Increase in Revenue: (Sep-15) $1195111\n",
      "Greatest Decrease in Revenue: (Aug-14) -$1172384\n"
     ]
    }
   ],
   "source": [
    "print('Financial Analysis')\n",
    "print('--------------------------------------')\n",
    "print('Total Months:', len(joined))\n",
    "print('Total Revenue:', currency_format(joined.Revenue.sum()))\n",
    "print('Average Revenue Change:', currency_format(joined.Revenue.sum()/len(joined)))\n",
    "print('Greatest Increase in Revenue:', '({:})'.format(max_value[\"Date\"]),currency_format(max_value['Revenue']))\n",
    "print('Greatest Decrease in Revenue:', '({:})'.format(min_value[\"Date\"]),currency_format(min_value['Revenue']))"
   ]
  },
  {
   "cell_type": "code",
   "execution_count": null,
   "metadata": {},
   "outputs": [],
   "source": [
    "joined.to_csv('output.csv')"
   ]
  }
 ],
 "metadata": {
  "kernelspec": {
   "display_name": "Python 3",
   "language": "python",
   "name": "python3"
  },
  "language_info": {
   "codemirror_mode": {
    "name": "ipython",
    "version": 3
   },
   "file_extension": ".py",
   "mimetype": "text/x-python",
   "name": "python",
   "nbconvert_exporter": "python",
   "pygments_lexer": "ipython3",
   "version": "3.6.4"
  }
 },
 "nbformat": 4,
 "nbformat_minor": 2
}
