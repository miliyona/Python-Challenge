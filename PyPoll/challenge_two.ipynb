{
 "cells": [
  {
   "cell_type": "code",
   "execution_count": 1,
   "metadata": {},
   "outputs": [],
   "source": [
    "import pandas as pd\n",
    "import csv"
   ]
  },
  {
   "cell_type": "code",
   "execution_count": 2,
   "metadata": {},
   "outputs": [],
   "source": [
    "election_data_1=pd.read_csv(\"election_data_1.csv\")\n",
    "election_data_2=pd.read_csv(\"election_data_2.csv\")\n",
    "joined=[election_data_1,election_data_2]\n",
    "joined = pd.concat(joined)"
   ]
  },
  {
   "cell_type": "code",
   "execution_count": 3,
   "metadata": {},
   "outputs": [
    {
     "data": {
      "text/plain": [
       "(803000, 3)"
      ]
     },
     "execution_count": 3,
     "metadata": {},
     "output_type": "execute_result"
    }
   ],
   "source": [
    "election_data_1.shape"
   ]
  },
  {
   "cell_type": "code",
   "execution_count": 4,
   "metadata": {},
   "outputs": [
    {
     "data": {
      "text/plain": [
       "(3521001, 3)"
      ]
     },
     "execution_count": 4,
     "metadata": {},
     "output_type": "execute_result"
    }
   ],
   "source": [
    "election_data_2.shape"
   ]
  },
  {
   "cell_type": "code",
   "execution_count": 5,
   "metadata": {},
   "outputs": [
    {
     "data": {
      "text/plain": [
       "4324001"
      ]
     },
     "execution_count": 5,
     "metadata": {},
     "output_type": "execute_result"
    }
   ],
   "source": [
    "len(joined)"
   ]
  },
  {
   "cell_type": "code",
   "execution_count": 6,
   "metadata": {},
   "outputs": [
    {
     "data": {
      "text/plain": [
       "Voter ID     4324001\n",
       "County       4324001\n",
       "Candidate    4324001\n",
       "dtype: int64"
      ]
     },
     "execution_count": 6,
     "metadata": {},
     "output_type": "execute_result"
    }
   ],
   "source": [
    "joined.count()"
   ]
  },
  {
   "cell_type": "code",
   "execution_count": 7,
   "metadata": {},
   "outputs": [
    {
     "data": {
      "text/plain": [
       "(8,)"
      ]
     },
     "execution_count": 7,
     "metadata": {},
     "output_type": "execute_result"
    }
   ],
   "source": [
    "joined.Candidate.unique().shape"
   ]
  },
  {
   "cell_type": "code",
   "execution_count": 8,
   "metadata": {},
   "outputs": [],
   "source": [
    "candidate_name=joined['Candidate'].value_counts().to_dict().keys()\n",
    "vote_counts=joined['Candidate'].value_counts().to_dict().values()"
   ]
  },
  {
   "cell_type": "code",
   "execution_count": 9,
   "metadata": {},
   "outputs": [],
   "source": [
    "candidate_name=list(tuple(candidate_name))"
   ]
  },
  {
   "cell_type": "code",
   "execution_count": 10,
   "metadata": {},
   "outputs": [],
   "source": [
    "vote_counts=list(tuple(vote_counts))"
   ]
  },
  {
   "cell_type": "code",
   "execution_count": 11,
   "metadata": {},
   "outputs": [
    {
     "name": "stdout",
     "output_type": "stream",
     "text": [
      "Election Results\n",
      "--------------------------------------\n",
      "Total Votes: 4324001\n",
      "--------------------------------------\n",
      "Khan : 51.30% (2218231)\n",
      "Correy : 16.29% (704200)\n",
      "Li : 11.40% (492940)\n",
      "Vestal : 8.91% (385440)\n",
      "Torres : 8.17% (353320)\n",
      "O'Tooley : 2.44% (105630)\n",
      "Seth : 0.93% (40150)\n",
      "Cordin : 0.56% (24090)\n",
      "--------------------------------------\n",
      "Winner: Khan\n",
      "--------------------------------------\n"
     ]
    }
   ],
   "source": [
    "print('Election Results')\n",
    "print('--------------------------------------')\n",
    "print('Total Votes:', len(joined))\n",
    "print('--------------------------------------')\n",
    "for x in range(len(vote_counts)):\n",
    "    print(candidate_name[x],':','{0:.2f}%'.format((vote_counts[x]/len(joined) * 100)),'({0:.0f})'.format(vote_counts[x]))\n",
    "print('--------------------------------------')\n",
    "print('Winner:', candidate_name[0])\n",
    "print('--------------------------------------')"
   ]
  },
  {
   "cell_type": "code",
   "execution_count": null,
   "metadata": {},
   "outputs": [],
   "source": []
  }
 ],
 "metadata": {
  "kernelspec": {
   "display_name": "Python 3",
   "language": "python",
   "name": "python3"
  },
  "language_info": {
   "codemirror_mode": {
    "name": "ipython",
    "version": 3
   },
   "file_extension": ".py",
   "mimetype": "text/x-python",
   "name": "python",
   "nbconvert_exporter": "python",
   "pygments_lexer": "ipython3",
   "version": "3.6.4"
  }
 },
 "nbformat": 4,
 "nbformat_minor": 2
}
